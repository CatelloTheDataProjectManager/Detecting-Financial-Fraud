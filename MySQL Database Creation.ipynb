{
 "cells": [
  {
   "cell_type": "markdown",
   "id": "05e3ba03",
   "metadata": {},
   "source": [
    "## Libraries"
   ]
  },
  {
   "cell_type": "code",
   "execution_count": 1,
   "id": "cd84604e",
   "metadata": {},
   "outputs": [],
   "source": [
    "import json\n",
    "import numpy as np\n",
    "import random\n",
    "import pandas as pd\n",
    "import mysql.connector"
   ]
  },
  {
   "cell_type": "markdown",
   "id": "758f3397",
   "metadata": {},
   "source": [
    "## MySQL Database Connection"
   ]
  },
  {
   "cell_type": "code",
   "execution_count": 2,
   "id": "3f977f8c",
   "metadata": {},
   "outputs": [],
   "source": [
    "json_file_path = r'C:\\Users\\Catello\\Desktop\\Protfolio\\Project_2\\database_config_mysql.json'\n",
    "\n",
    "with open(json_file_path, 'r') as json_file:\n",
    "    database_config = json.load(json_file)\n",
    "\n",
    "mydb = mysql.connector.connect(**database_config)\n",
    "mycursor = mydb.cursor()"
   ]
  },
  {
   "cell_type": "markdown",
   "id": "dcab5b2e",
   "metadata": {},
   "source": [
    "## Database Creation"
   ]
  },
  {
   "cell_type": "code",
   "execution_count": 3,
   "id": "1a944ef7",
   "metadata": {},
   "outputs": [],
   "source": [
    "mycursor.execute(\"CREATE DATABASE IF NOT EXISTS project_2\")\n",
    "\n",
    "mycursor.execute(\"USE project_2\")\n",
    "\n",
    "create_table_query = \"\"\"\n",
    "CREATE TABLE IF NOT EXISTS financial_transactions (\n",
    "    transaction_id INT PRIMARY KEY,\n",
    "    merchant_number INT,\n",
    "    transaction_amount INT,\n",
    "    transaction_category VARCHAR(50)\n",
    ");\n",
    "\"\"\"\n",
    "mycursor.execute(create_table_query)\n"
   ]
  },
  {
   "cell_type": "code",
   "execution_count": 4,
   "id": "7e42834f",
   "metadata": {},
   "outputs": [
    {
     "name": "stdout",
     "output_type": "stream",
     "text": [
      "   transaction_id  merchant_number  transaction_amount  \\\n",
      "0               1              369              625510   \n",
      "1               2             1870              681505   \n",
      "2               3             1789              897404   \n",
      "3               4              972             1141892   \n",
      "4               5             2379              749053   \n",
      "\n",
      "           transaction_category  \n",
      "0                  bank_deposit  \n",
      "1  international_money_transfer  \n",
      "2       domestic_money_transfer  \n",
      "3                  bank_deposit  \n",
      "4  international_money_transfer  \n"
     ]
    }
   ],
   "source": [
    "# Generate financial transactions\n",
    "\n",
    "# Unique transaction IDs\n",
    "trans_ids = [i for i in range(1, 50001)]\n",
    "\n",
    "# Vendor/customer numbers\n",
    "merchant_numbers = np.random.randint(low=1, high=2500, size=(50000,))\n",
    "\n",
    "# Transaction amount\n",
    "trans_amounts = np.random.randint(low=20, high=1250000, size=(50000))\n",
    "\n",
    "# Transaction types\n",
    "trans_types = ['ATM_withdrawal', 'bank_deposit', 'domestic_money_transfer', 'international_money_transfer']\n",
    "\n",
    "# Generate a list of random integers\n",
    "rand_integers = [random.randint(0, 3) for i in range(0, 50000)]\n",
    "trans_list = [trans_types[i] for i in rand_integers]\n",
    "\n",
    "transaction_data = {\n",
    "    \"transaction_id\": trans_ids,\n",
    "    \"merchant_number\": list(merchant_numbers),\n",
    "    \"transaction_amount\": list(trans_amounts),\n",
    "    \"transaction_category\": trans_list,\n",
    "}\n",
    "\n",
    "transaction_dataframe = pd.DataFrame(transaction_data)\n",
    "\n",
    "print(transaction_dataframe.head())\n"
   ]
  },
  {
   "cell_type": "code",
   "execution_count": 10,
   "id": "fb3e416f",
   "metadata": {},
   "outputs": [],
   "source": [
    "insert_statement = \"INSERT INTO financial_transactions (transaction_id, merchant_number, transaction_amount, transaction_category) VALUES (%s, %s, %s, %s)\"\n",
    "transaction_data_list = transaction_dataframe.values.tolist()\n",
    "\n",
    "for transaction in transaction_data_list:\n",
    "    mycursor.execute(insert_statement, transaction)\n",
    "\n",
    "mydb.commit()\n"
   ]
  }
 ],
 "metadata": {
  "kernelspec": {
   "display_name": "Python 3 (ipykernel)",
   "language": "python",
   "name": "python3"
  },
  "language_info": {
   "codemirror_mode": {
    "name": "ipython",
    "version": 3
   },
   "file_extension": ".py",
   "mimetype": "text/x-python",
   "name": "python",
   "nbconvert_exporter": "python",
   "pygments_lexer": "ipython3",
   "version": "3.9.13"
  }
 },
 "nbformat": 4,
 "nbformat_minor": 5
}
