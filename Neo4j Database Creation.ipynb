{
 "cells": [
  {
   "cell_type": "markdown",
   "id": "d30c79c7",
   "metadata": {},
   "source": [
    "## Libraries"
   ]
  },
  {
   "cell_type": "code",
   "execution_count": 19,
   "id": "a812c196",
   "metadata": {},
   "outputs": [],
   "source": [
    "import json\n",
    "import numpy as np\n",
    "import random\n",
    "import pandas as pd\n",
    "import mysql.connector\n",
    "from neo4j import GraphDatabase"
   ]
  },
  {
   "cell_type": "markdown",
   "id": "1b3058f3",
   "metadata": {},
   "source": [
    "## MySQL Database Connection"
   ]
  },
  {
   "cell_type": "code",
   "execution_count": 20,
   "id": "921e0f89",
   "metadata": {},
   "outputs": [],
   "source": [
    "json_file_path = r'C:\\Users\\Catello\\Desktop\\Protfolio\\Project_2\\database_config_mysql.json'\n",
    "\n",
    "with open(json_file_path, 'r') as json_file:\n",
    "    database_config = json.load(json_file)\n",
    "\n",
    "mydb = mysql.connector.connect(**database_config)\n",
    "mycursor = mydb.cursor()"
   ]
  },
  {
   "cell_type": "markdown",
   "id": "4a0338d8",
   "metadata": {},
   "source": [
    "## SQL Query"
   ]
  },
  {
   "cell_type": "code",
   "execution_count": 21,
   "id": "acacf99e",
   "metadata": {},
   "outputs": [],
   "source": [
    "mycursor.execute(\"USE project_2\")"
   ]
  },
  {
   "cell_type": "code",
   "execution_count": 22,
   "id": "097c3d67",
   "metadata": {},
   "outputs": [
    {
     "name": "stdout",
     "output_type": "stream",
     "text": [
      "         Tables\n",
      "0  transactions\n"
     ]
    }
   ],
   "source": [
    "# Query to show tables\n",
    "show_tables_query = \"SHOW TABLES\"\n",
    "\n",
    "# Execute the query\n",
    "mycursor.execute(show_tables_query)\n",
    "\n",
    "# Fetch all the rows\n",
    "tables = mycursor.fetchall()\n",
    "\n",
    "# Create a Pandas DataFrame\n",
    "df_tables = pd.DataFrame(tables, columns=[\"Tables\"])\n",
    "\n",
    "# Display the DataFrame\n",
    "print(df_tables)"
   ]
  },
  {
   "cell_type": "code",
   "execution_count": 23,
   "id": "0892a0f4",
   "metadata": {},
   "outputs": [
    {
     "name": "stderr",
     "output_type": "stream",
     "text": [
      "C:\\Users\\Catello\\AppData\\Local\\Temp\\ipykernel_4712\\3223689840.py:8: UserWarning: pandas only supports SQLAlchemy connectable (engine/connection) or database string URI or sqlite3 DBAPI2 connection. Other DBAPI2 objects are not tested. Please consider using SQLAlchemy.\n",
      "  transaction_DataFrame = pd.read_sql_query(query, mydb)\n"
     ]
    },
    {
     "data": {
      "text/html": [
       "<div>\n",
       "<style scoped>\n",
       "    .dataframe tbody tr th:only-of-type {\n",
       "        vertical-align: middle;\n",
       "    }\n",
       "\n",
       "    .dataframe tbody tr th {\n",
       "        vertical-align: top;\n",
       "    }\n",
       "\n",
       "    .dataframe thead th {\n",
       "        text-align: right;\n",
       "    }\n",
       "</style>\n",
       "<table border=\"1\" class=\"dataframe\">\n",
       "  <thead>\n",
       "    <tr style=\"text-align: right;\">\n",
       "      <th></th>\n",
       "      <th>transaction_ID</th>\n",
       "      <th>vendor_number</th>\n",
       "      <th>transaction_amount</th>\n",
       "      <th>transaction_type</th>\n",
       "    </tr>\n",
       "  </thead>\n",
       "  <tbody>\n",
       "    <tr>\n",
       "      <th>0</th>\n",
       "      <td>1</td>\n",
       "      <td>2284</td>\n",
       "      <td>566243</td>\n",
       "      <td>cash_deposit</td>\n",
       "    </tr>\n",
       "    <tr>\n",
       "      <th>1</th>\n",
       "      <td>2</td>\n",
       "      <td>2275</td>\n",
       "      <td>94353</td>\n",
       "      <td>cash_withdrawl</td>\n",
       "    </tr>\n",
       "    <tr>\n",
       "      <th>2</th>\n",
       "      <td>3</td>\n",
       "      <td>1742</td>\n",
       "      <td>362800</td>\n",
       "      <td>transfer_international</td>\n",
       "    </tr>\n",
       "    <tr>\n",
       "      <th>3</th>\n",
       "      <td>4</td>\n",
       "      <td>1894</td>\n",
       "      <td>681406</td>\n",
       "      <td>transfer_international</td>\n",
       "    </tr>\n",
       "    <tr>\n",
       "      <th>4</th>\n",
       "      <td>5</td>\n",
       "      <td>977</td>\n",
       "      <td>241322</td>\n",
       "      <td>transfer_domestic</td>\n",
       "    </tr>\n",
       "  </tbody>\n",
       "</table>\n",
       "</div>"
      ],
      "text/plain": [
       "   transaction_ID  vendor_number  transaction_amount        transaction_type\n",
       "0               1           2284              566243            cash_deposit\n",
       "1               2           2275               94353          cash_withdrawl\n",
       "2               3           1742              362800  transfer_international\n",
       "3               4           1894              681406  transfer_international\n",
       "4               5            977              241322       transfer_domestic"
      ]
     },
     "execution_count": 23,
     "metadata": {},
     "output_type": "execute_result"
    }
   ],
   "source": [
    "# Execute the query\n",
    "query = '''\n",
    "SELECT *\n",
    "FROM transactions\n",
    "'''\n",
    "\n",
    "# Load results into a Pandas DataFrame\n",
    "transaction_DataFrame = pd.read_sql_query(query, mydb)\n",
    "\n",
    "# Display the DataFrame\n",
    "transaction_DataFrame.head()"
   ]
  },
  {
   "cell_type": "markdown",
   "id": "25f73546",
   "metadata": {},
   "source": [
    "## Neo4j Database Connection"
   ]
  },
  {
   "cell_type": "code",
   "execution_count": 31,
   "id": "5793a0fd",
   "metadata": {},
   "outputs": [],
   "source": [
    "# Load database configuration from JSON file\n",
    "json_file_path = r'C:\\Users\\Catello\\Desktop\\Protfolio\\Project_2\\database_config_neo4j.json'\n",
    "\n",
    "with open(json_file_path, 'r') as json_file:\n",
    "    database_config = json.load(json_file)\n",
    "\n",
    "# Extracting authentication details from the dictionary\n",
    "auth_details = database_config.get(\"auth\", {})\n",
    "uri = database_config.get(\"uri\", \"\")\n",
    "\n",
    "# Connect to Neo4j\n",
    "data_base_connection = GraphDatabase.driver(uri, auth=(auth_details.get(\"user\", \"\"), auth_details.get(\"password\", \"\")))\n"
   ]
  },
  {
   "cell_type": "markdown",
   "id": "8314472a",
   "metadata": {},
   "source": [
    "## Neo4j Query"
   ]
  },
  {
   "cell_type": "code",
   "execution_count": 32,
   "id": "dfe624ce",
   "metadata": {},
   "outputs": [],
   "source": [
    "transaction_list = transaction_DataFrame.values.tolist()\n",
    "\n",
    "transaction_execution_commands = []\n",
    "\n",
    "for i in transaction_list:\n",
    "    neo4j_create_statemenet = \"create (t:Transaction {transaction_id:\" + str(i[0]) +\", vendor_number:  \" + str(i[1]) +\", transaction_amount: \" + str(i[2]) +\", transaction_type: '\" + str(i[3]) + \"'})\"\n",
    "    transaction_execution_commands.append(neo4j_create_statemenet)\n",
    "\n",
    "    \n",
    "def execute_transactions(transaction_execution_commands):\n",
    "    session = data_base_connection.session()    \n",
    "    for i in transaction_execution_commands:\n",
    "        session.run(i)\n",
    "\n",
    "        \n",
    "execute_transactions(transaction_execution_commands)\n",
    " "
   ]
  },
  {
   "cell_type": "code",
   "execution_count": 33,
   "id": "725b4fc0",
   "metadata": {},
   "outputs": [
    {
     "name": "stdout",
     "output_type": "stream",
     "text": [
      "['cash_deposit', 'cash_withdrawl', 'transfer_international', 'transfer_domestic']\n"
     ]
    }
   ],
   "source": [
    "unique_transaction_types = [\"match (t:Transaction) return distinct t.transaction_type\"]\n",
    "\n",
    "def execute_transactions(transaction_execution_commands, return_result = False):\n",
    "    session = data_base_connection.session()\n",
    "    return_list = []\n",
    "    \n",
    "    for i in transaction_execution_commands:\n",
    "        transaction_result = session.run(i)\n",
    "        return_list = [j[0] for j in transaction_result]\n",
    "    \n",
    "    if return_result:\n",
    "        return return_list\n",
    "\n",
    "        \n",
    "unique_transaction_results = execute_transactions(unique_transaction_types, True)\n",
    "print(unique_transaction_results)"
   ]
  },
  {
   "cell_type": "code",
   "execution_count": 34,
   "id": "722970b7",
   "metadata": {},
   "outputs": [
    {
     "name": "stdout",
     "output_type": "stream",
     "text": [
      "[\"match (t:Transaction) where t.transaction_type = 'cash_deposit' set t :cash_deposit\", \"match (t:Transaction) where t.transaction_type = 'cash_withdrawl' set t :cash_withdrawl\", \"match (t:Transaction) where t.transaction_type = 'transfer_international' set t :transfer_international\", \"match (t:Transaction) where t.transaction_type = 'transfer_domestic' set t :transfer_domestic\"]\n"
     ]
    }
   ],
   "source": [
    "create_labels_commands = []\n",
    "\n",
    "for i in unique_transaction_results:\n",
    "    create_labels_commands.append(\"match (t:Transaction) where t.transaction_type = '\" + i + \"' set t :\" + i )\n",
    "    \n",
    "print(create_labels_commands)\n",
    "\n",
    "\n",
    "execute_transactions(create_labels_commands)"
   ]
  },
  {
   "cell_type": "code",
   "execution_count": 43,
   "id": "bb8376ec",
   "metadata": {},
   "outputs": [],
   "source": [
    "# Unique vendor ID command\n",
    "unique_vendor_id_command = [\"MATCH (t:Transaction) RETURN DISTINCT t.vendor_number\"]\n",
    "\n",
    "# Execute the command to get unique vendor IDs\n",
    "list_unique_vendor_id = execute_transactions(unique_vendor_id_command, True)\n",
    "\n",
    "# Create process mapping\n",
    "create_process_mapping = []\n",
    "\n",
    "for i in list_unique_vendor_id:\n",
    "    create_process_mapping.append(\n",
    "        \"MATCH (t:Transaction) WHERE t.vendor_number = '\" + str(i) + \"' \"\n",
    "        \"WITH t ORDER BY t.id \"\n",
    "        \"WITH COLLECT(t) AS ordered_transactions \"\n",
    "        \"FOREACH (ignore IN RANGE(0, SIZE(ordered_transactions) - 2) | \"\n",
    "        \"    FOREACH (j IN [ordered_transactions[ignore]] | \"\n",
    "        \"        FOREACH (k IN [ordered_transactions[ignore + 1]] | \"\n",
    "        \"            MERGE (j)-[:PRECESS_WORKFLOW]->(k)\"\n",
    "        \"        )\"\n",
    "        \"    )\"\n",
    "        \")\"\n",
    "    )\n",
    "\n",
    "# Execute process mapping\n",
    "execute_transactions(create_process_mapping)\n"
   ]
  },
  {
   "cell_type": "code",
   "execution_count": null,
   "id": "eb26426a",
   "metadata": {},
   "outputs": [],
   "source": []
  }
 ],
 "metadata": {
  "kernelspec": {
   "display_name": "Python 3 (ipykernel)",
   "language": "python",
   "name": "python3"
  },
  "language_info": {
   "codemirror_mode": {
    "name": "ipython",
    "version": 3
   },
   "file_extension": ".py",
   "mimetype": "text/x-python",
   "name": "python",
   "nbconvert_exporter": "python",
   "pygments_lexer": "ipython3",
   "version": "3.9.13"
  }
 },
 "nbformat": 4,
 "nbformat_minor": 5
}
