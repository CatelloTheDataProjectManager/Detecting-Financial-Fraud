{
 "cells": [
  {
   "cell_type": "markdown",
   "id": "0868a463",
   "metadata": {},
   "source": [
    "# Financial Transaction Workflow 🏦"
   ]
  },
  {
   "cell_type": "markdown",
   "id": "d30c79c7",
   "metadata": {},
   "source": [
    "## Libraries"
   ]
  },
  {
   "cell_type": "code",
   "execution_count": 4,
   "id": "a812c196",
   "metadata": {},
   "outputs": [],
   "source": [
    "import json\n",
    "import numpy as np\n",
    "import random\n",
    "import pandas as pd\n",
    "import mysql.connector\n",
    "from neo4j import GraphDatabase"
   ]
  },
  {
   "cell_type": "markdown",
   "id": "1b3058f3",
   "metadata": {},
   "source": [
    "## MySQL Database Connection"
   ]
  },
  {
   "cell_type": "code",
   "execution_count": 5,
   "id": "921e0f89",
   "metadata": {},
   "outputs": [],
   "source": [
    "json_file_path = r'C:\\Users\\Catello\\Desktop\\Protfolio\\Project_2\\database_config_mysql.json'\n",
    "\n",
    "with open(json_file_path, 'r') as json_file:\n",
    "    database_config = json.load(json_file)\n",
    "\n",
    "mydb = mysql.connector.connect(**database_config)\n",
    "mycursor = mydb.cursor()"
   ]
  },
  {
   "cell_type": "markdown",
   "id": "4a0338d8",
   "metadata": {},
   "source": [
    "## SQL Query"
   ]
  },
  {
   "cell_type": "code",
   "execution_count": 6,
   "id": "acacf99e",
   "metadata": {},
   "outputs": [],
   "source": [
    "mycursor.execute(\"USE project_2\")"
   ]
  },
  {
   "cell_type": "code",
   "execution_count": 7,
   "id": "097c3d67",
   "metadata": {},
   "outputs": [
    {
     "name": "stdout",
     "output_type": "stream",
     "text": [
      "                   Tables\n",
      "0  financial_transactions\n"
     ]
    }
   ],
   "source": [
    "# Query to show tables\n",
    "show_tables_query = \"SHOW TABLES\"\n",
    "\n",
    "# Execute the query\n",
    "mycursor.execute(show_tables_query)\n",
    "\n",
    "# Fetch all the rows\n",
    "tables = mycursor.fetchall()\n",
    "\n",
    "# Create a Pandas DataFrame\n",
    "df_tables = pd.DataFrame(tables, columns=[\"Tables\"])\n",
    "\n",
    "# Display the DataFrame\n",
    "print(df_tables)"
   ]
  },
  {
   "cell_type": "code",
   "execution_count": 8,
   "id": "0892a0f4",
   "metadata": {},
   "outputs": [
    {
     "name": "stderr",
     "output_type": "stream",
     "text": [
      "C:\\Users\\Catello\\AppData\\Local\\Temp\\ipykernel_10052\\1671986894.py:8: UserWarning: pandas only supports SQLAlchemy connectable (engine/connection) or database string URI or sqlite3 DBAPI2 connection. Other DBAPI2 objects are not tested. Please consider using SQLAlchemy.\n",
      "  transaction_DataFrame = pd.read_sql_query(query, mydb)\n"
     ]
    },
    {
     "data": {
      "text/html": [
       "<div>\n",
       "<style scoped>\n",
       "    .dataframe tbody tr th:only-of-type {\n",
       "        vertical-align: middle;\n",
       "    }\n",
       "\n",
       "    .dataframe tbody tr th {\n",
       "        vertical-align: top;\n",
       "    }\n",
       "\n",
       "    .dataframe thead th {\n",
       "        text-align: right;\n",
       "    }\n",
       "</style>\n",
       "<table border=\"1\" class=\"dataframe\">\n",
       "  <thead>\n",
       "    <tr style=\"text-align: right;\">\n",
       "      <th></th>\n",
       "      <th>transaction_id</th>\n",
       "      <th>merchant_number</th>\n",
       "      <th>transaction_amount</th>\n",
       "      <th>transaction_category</th>\n",
       "    </tr>\n",
       "  </thead>\n",
       "  <tbody>\n",
       "    <tr>\n",
       "      <th>0</th>\n",
       "      <td>1</td>\n",
       "      <td>369</td>\n",
       "      <td>625510</td>\n",
       "      <td>bank_deposit</td>\n",
       "    </tr>\n",
       "    <tr>\n",
       "      <th>1</th>\n",
       "      <td>2</td>\n",
       "      <td>1870</td>\n",
       "      <td>681505</td>\n",
       "      <td>international_money_transfer</td>\n",
       "    </tr>\n",
       "    <tr>\n",
       "      <th>2</th>\n",
       "      <td>3</td>\n",
       "      <td>1789</td>\n",
       "      <td>897404</td>\n",
       "      <td>domestic_money_transfer</td>\n",
       "    </tr>\n",
       "    <tr>\n",
       "      <th>3</th>\n",
       "      <td>4</td>\n",
       "      <td>972</td>\n",
       "      <td>1141892</td>\n",
       "      <td>bank_deposit</td>\n",
       "    </tr>\n",
       "    <tr>\n",
       "      <th>4</th>\n",
       "      <td>5</td>\n",
       "      <td>2379</td>\n",
       "      <td>749053</td>\n",
       "      <td>international_money_transfer</td>\n",
       "    </tr>\n",
       "  </tbody>\n",
       "</table>\n",
       "</div>"
      ],
      "text/plain": [
       "   transaction_id  merchant_number  transaction_amount  \\\n",
       "0               1              369              625510   \n",
       "1               2             1870              681505   \n",
       "2               3             1789              897404   \n",
       "3               4              972             1141892   \n",
       "4               5             2379              749053   \n",
       "\n",
       "           transaction_category  \n",
       "0                  bank_deposit  \n",
       "1  international_money_transfer  \n",
       "2       domestic_money_transfer  \n",
       "3                  bank_deposit  \n",
       "4  international_money_transfer  "
      ]
     },
     "execution_count": 8,
     "metadata": {},
     "output_type": "execute_result"
    }
   ],
   "source": [
    "# Execute the query\n",
    "query = '''\n",
    "SELECT *\n",
    "FROM financial_transactions\n",
    "'''\n",
    "\n",
    "# Load results into a Pandas DataFrame\n",
    "transaction_DataFrame = pd.read_sql_query(query, mydb)\n",
    "\n",
    "# Display the DataFrame\n",
    "transaction_DataFrame.head()"
   ]
  },
  {
   "cell_type": "markdown",
   "id": "25f73546",
   "metadata": {},
   "source": [
    "## Neo4j Database Connection"
   ]
  },
  {
   "cell_type": "code",
   "execution_count": 12,
   "id": "5793a0fd",
   "metadata": {},
   "outputs": [],
   "source": [
    "# Load database configuration from JSON file\n",
    "json_file_path = r'C:\\Users\\Catello\\Desktop\\Protfolio\\Project_2\\database_config_neo4j.json'\n",
    "\n",
    "with open(json_file_path, 'r') as json_file:\n",
    "    database_config = json.load(json_file)\n",
    "\n",
    "# Extracting authentication details from the dictionary\n",
    "auth_details = database_config.get(\"auth\", {})\n",
    "uri = database_config.get(\"uri\", \"\")\n",
    "\n",
    "# Connect to Neo4j\n",
    "data_base_connection = GraphDatabase.driver(uri, auth=(auth_details.get(\"user\", \"\"), auth_details.get(\"password\", \"\")))\n"
   ]
  },
  {
   "cell_type": "markdown",
   "id": "8314472a",
   "metadata": {},
   "source": [
    "## Neo4j Query"
   ]
  },
  {
   "cell_type": "code",
   "execution_count": 11,
   "id": "dfe624ce",
   "metadata": {},
   "outputs": [],
   "source": [
    "transaction_list = transaction_DataFrame.values.tolist()\n",
    "\n",
    "transaction_execution_commands = []\n",
    "\n",
    "for i in transaction_list:\n",
    "    neo4j_create_statemenet = \"create (t:Transaction {transaction_id:\" + str(i[0]) +\", vendor_number:  \" + str(i[1]) +\", transaction_amount: \" + str(i[2]) +\", transaction_type: '\" + str(i[3]) + \"'})\"\n",
    "    transaction_execution_commands.append(neo4j_create_statemenet)\n",
    "\n",
    "    \n",
    "def execute_transactions(transaction_execution_commands):\n",
    "    session = data_base_connection.session()    \n",
    "    for i in transaction_execution_commands:\n",
    "        session.run(i)\n",
    "\n",
    "        \n",
    "execute_transactions(transaction_execution_commands)\n",
    " "
   ]
  },
  {
   "cell_type": "code",
   "execution_count": 12,
   "id": "725b4fc0",
   "metadata": {},
   "outputs": [
    {
     "name": "stdout",
     "output_type": "stream",
     "text": [
      "['bank_deposit', 'international_money_transfer', 'domestic_money_transfer', 'ATM_withdrawal']\n"
     ]
    }
   ],
   "source": [
    "unique_transaction_types = [\"match (t:Transaction) return distinct t.transaction_type\"]\n",
    "\n",
    "def execute_transactions(transaction_execution_commands, return_result = False):\n",
    "    session = data_base_connection.session()\n",
    "    return_list = []\n",
    "    \n",
    "    for i in transaction_execution_commands:\n",
    "        transaction_result = session.run(i)\n",
    "        return_list = [j[0] for j in transaction_result]\n",
    "    \n",
    "    if return_result:\n",
    "        return return_list\n",
    "\n",
    "        \n",
    "unique_transaction_results = execute_transactions(unique_transaction_types, True)\n",
    "print(unique_transaction_results)"
   ]
  },
  {
   "cell_type": "code",
   "execution_count": 13,
   "id": "722970b7",
   "metadata": {},
   "outputs": [
    {
     "name": "stdout",
     "output_type": "stream",
     "text": [
      "[\"match (t:Transaction) where t.transaction_type = 'bank_deposit' set t :bank_deposit\", \"match (t:Transaction) where t.transaction_type = 'international_money_transfer' set t :international_money_transfer\", \"match (t:Transaction) where t.transaction_type = 'domestic_money_transfer' set t :domestic_money_transfer\", \"match (t:Transaction) where t.transaction_type = 'ATM_withdrawal' set t :ATM_withdrawal\"]\n"
     ]
    }
   ],
   "source": [
    "create_labels_commands = []\n",
    "\n",
    "for i in unique_transaction_results:\n",
    "    create_labels_commands.append(\"match (t:Transaction) where t.transaction_type = '\" + i + \"' set t :\" + i )\n",
    "    \n",
    "print(create_labels_commands)\n",
    "\n",
    "\n",
    "execute_transactions(create_labels_commands)"
   ]
  },
  {
   "cell_type": "code",
   "execution_count": 13,
   "id": "bb8376ec",
   "metadata": {},
   "outputs": [
    {
     "ename": "NameError",
     "evalue": "name 'execute_transactions' is not defined",
     "output_type": "error",
     "traceback": [
      "\u001b[1;31m---------------------------------------------------------------------------\u001b[0m",
      "\u001b[1;31mNameError\u001b[0m                                 Traceback (most recent call last)",
      "\u001b[1;32m~\\AppData\\Local\\Temp\\ipykernel_8980\\1440997896.py\u001b[0m in \u001b[0;36m<module>\u001b[1;34m\u001b[0m\n\u001b[0;32m      3\u001b[0m \u001b[1;33m\u001b[0m\u001b[0m\n\u001b[0;32m      4\u001b[0m \u001b[1;31m# Execute the command to get unique vendor IDs\u001b[0m\u001b[1;33m\u001b[0m\u001b[1;33m\u001b[0m\u001b[0m\n\u001b[1;32m----> 5\u001b[1;33m \u001b[0mlist_unique_vendor_id\u001b[0m \u001b[1;33m=\u001b[0m \u001b[0mexecute_transactions\u001b[0m\u001b[1;33m(\u001b[0m\u001b[0munique_vendor_id_command\u001b[0m\u001b[1;33m,\u001b[0m \u001b[1;32mTrue\u001b[0m\u001b[1;33m)\u001b[0m\u001b[1;33m\u001b[0m\u001b[1;33m\u001b[0m\u001b[0m\n\u001b[0m\u001b[0;32m      6\u001b[0m \u001b[1;33m\u001b[0m\u001b[0m\n\u001b[0;32m      7\u001b[0m \u001b[1;31m# Create process mapping\u001b[0m\u001b[1;33m\u001b[0m\u001b[1;33m\u001b[0m\u001b[0m\n",
      "\u001b[1;31mNameError\u001b[0m: name 'execute_transactions' is not defined"
     ]
    }
   ],
   "source": [
    "# Unique vendor ID command\n",
    "unique_vendor_id_command = [\"MATCH (t:Transaction) RETURN DISTINCT t.vendor_number\"]\n",
    "\n",
    "# Execute the command to get unique vendor IDs\n",
    "list_unique_vendor_id = execute_transactions(unique_vendor_id_command, True)\n",
    "\n",
    "# Create process mapping\n",
    "create_process_mapping = []\n",
    "\n",
    "for i in list_unique_vendor_id:\n",
    "    create_process_mapping.append(\n",
    "        \"MATCH (t:Transaction) WHERE t.vendor_number = '\" + str(i) + \"' \"\n",
    "        \"WITH t ORDER BY t.id \"\n",
    "        \"WITH COLLECT(t) AS ordered_transactions \"\n",
    "        \"FOREACH (ignore IN RANGE(0, SIZE(ordered_transactions) - 2) | \"\n",
    "        \"    FOREACH (j IN [ordered_transactions[ignore]] | \"\n",
    "        \"        FOREACH (k IN [ordered_transactions[ignore + 1]] | \"\n",
    "        \"            MERGE (j)-[:PRECESS_WORKFLOW]->(k)\"\n",
    "        \"        )\"\n",
    "        \"    )\"\n",
    "        \")\"\n",
    "    )\n",
    "    \n",
    "def execute_transactions(transaction_execution_commands):\n",
    "    session = data_base_connection.session()    \n",
    "    for i in transaction_execution_commands:\n",
    "        session.run(i)\n",
    "    \n",
    "    \n",
    "# Execute process mapping\n",
    "execute_transactions(create_process_mapping)\n"
   ]
  },
  {
   "cell_type": "code",
   "execution_count": null,
   "id": "eb26426a",
   "metadata": {},
   "outputs": [],
   "source": []
  }
 ],
 "metadata": {
  "kernelspec": {
   "display_name": "Python 3 (ipykernel)",
   "language": "python",
   "name": "python3"
  },
  "language_info": {
   "codemirror_mode": {
    "name": "ipython",
    "version": 3
   },
   "file_extension": ".py",
   "mimetype": "text/x-python",
   "name": "python",
   "nbconvert_exporter": "python",
   "pygments_lexer": "ipython3",
   "version": "3.9.13"
  }
 },
 "nbformat": 4,
 "nbformat_minor": 5
}
